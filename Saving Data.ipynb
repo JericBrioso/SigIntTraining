{
 "cells": [
  {
   "cell_type": "code",
   "execution_count": null,
   "id": "fc3f45fc-f203-4ccb-b9d5-b12efbfefbd3",
   "metadata": {},
   "outputs": [],
   "source": [
    "#exercise: mix 10 signals\n",
    "import numpy as np\n",
    "import matplotlib.pyplot as plt\n",
    "\n",
    "# Signal parameters\n",
    "duration = 1.0        # seconds\n",
    "sampling_rate = 1000  # Hz\n",
    "t = np.linspace(0, duration, int(sampling_rate * duration), endpoint=False)\n",
    "\n",
    "# define amplitudes\n",
    "amplitudes = [1, 0.7, 2, 0.5, 0.6, 0.2, 0.8, 1.5, 2.3, 0.9] \n",
    "\n",
    "# define frequencies\n",
    "freqs = [15, 50 , 100, 120, 150, 160, 200, 180, 300, 400]\n",
    "\n",
    "# Mixed signal\n",
    "plt.figure(figsize=(14, 14))\n",
    "i=1\n",
    "mixed_signal=np.zeros(len(t))\n",
    "for freq, amp in zip(freqs, amplitudes):\n",
    "    signal = amp*np.sin(2 * np.pi * freq * t)\n",
    "    mixed_signal = mixed_signal + signal\n",
    "    plt.subplot(len(freqs)+1, 1, i)\n",
    "    plt.plot(t, signal, label=f'{freq} Hz')\n",
    "    plt.title(f'Signal {i}: {freq} Hz')\n",
    "    plt.grid(True)\n",
    "    i=i+1\n",
    "plt.subplot(len(freqs)+1, 1, i)\n",
    "plt.plot(t, mixed_signal)\n",
    "plt.title(f'Mixed Signal')\n",
    "plt.grid(True)\n",
    "\n",
    "plt.tight_layout()\n",
    "plt.suptitle(\"Signal Mixing\", fontsize=16, y=1.02)\n",
    "plt.show()"
   ]
  },
  {
   "cell_type": "code",
   "execution_count": null,
   "id": "78ebfe6a-745d-4dec-8b06-c2e40d104922",
   "metadata": {},
   "outputs": [],
   "source": []
  }
 ],
 "metadata": {
  "kernelspec": {
   "display_name": "Python 3 (ipykernel)",
   "language": "python",
   "name": "python3"
  },
  "language_info": {
   "codemirror_mode": {
    "name": "ipython",
    "version": 3
   },
   "file_extension": ".py",
   "mimetype": "text/x-python",
   "name": "python",
   "nbconvert_exporter": "python",
   "pygments_lexer": "ipython3",
   "version": "3.13.2"
  }
 },
 "nbformat": 4,
 "nbformat_minor": 5
}
