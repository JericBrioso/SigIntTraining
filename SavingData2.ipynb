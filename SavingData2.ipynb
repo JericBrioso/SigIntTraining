{
 "cells": [
  {
   "cell_type": "code",
   "execution_count": 7,
   "id": "fc3f45fc-f203-4ccb-b9d5-b12efbfefbd3",
   "metadata": {},
   "outputs": [
    {
     "name": "stdout",
     "output_type": "stream",
     "text": [
      "Saved 'mixed_signal.wav'\n"
     ]
    },
    {
     "data": {
      "text/plain": [
       "<Figure size 1400x1400 with 0 Axes>"
      ]
     },
     "metadata": {},
     "output_type": "display_data"
    }
   ],
   "source": [
    "#exercise: mix 10 signals\n",
    "import numpy as np\n",
    "import matplotlib.pyplot as plt\n",
    "from scipy.io import wavfile\n",
    "import random\n",
    "\n",
    "# Signal parameters\n",
    "duration = 1.0        # seconds\n",
    "fs = 10000  # Hz\n",
    "t = np.linspace(0, duration, int(sampling_rate * duration), endpoint=False)\n",
    "\n",
    "# define amplitudes\n",
    "#amplitudes = [1, 0.7, 2, 0.5, 0.6, 0.2, 0.8, 1.5, 2.3, 0.9] \n",
    "amplitudes = [random.randint(0, 2) for _ in range(20)]\n",
    "\n",
    "# define frequencies\n",
    "#freqs = [15, 50 , 100, 120, 150, 160, 200, 180, 300, 400]\n",
    "freqs= [random.randint(0, 1000) for _ in range(20)]\n",
    "\n",
    "def add_awgn(signal, snr_db):\n",
    "    signal_power = np.mean(np.abs(signal)**2)\n",
    "    snr_linear = 10**(snr_db / 10)\n",
    "    noise_power = signal_power / snr_linear\n",
    "    noise = np.sqrt(noise_power / 2) * (np.random.randn(*signal.shape) + 1j * np.random.randn(*signal.shape))\n",
    "    return signal + noise\n",
    "\n",
    "# Mixed signal\n",
    "plt.figure(figsize=(14, 14))\n",
    "i=1\n",
    "mixed_signal=np.zeros(len(t))\n",
    "\n",
    "for freq, amp in zip(freqs, amplitudes):\n",
    "    signal = amp*np.sin(2 * np.pi * freq * t)\n",
    "    mixed_signal = mixed_signal + signal\n",
    "\n",
    "# Save to WAV file\n",
    "wavfile.write(\"mixed_signal.wav\", fs, mixed_signal)\n",
    "\n",
    "print(\"Saved 'mixed_signal.wav'\")"
   ]
  },
  {
   "cell_type": "code",
   "execution_count": null,
   "id": "78ebfe6a-745d-4dec-8b06-c2e40d104922",
   "metadata": {},
   "outputs": [],
   "source": []
  }
 ],
 "metadata": {
  "kernelspec": {
   "display_name": "Python 3 (ipykernel)",
   "language": "python",
   "name": "python3"
  },
  "language_info": {
   "codemirror_mode": {
    "name": "ipython",
    "version": 3
   },
   "file_extension": ".py",
   "mimetype": "text/x-python",
   "name": "python",
   "nbconvert_exporter": "python",
   "pygments_lexer": "ipython3",
   "version": "3.13.2"
  }
 },
 "nbformat": 4,
 "nbformat_minor": 5
}
